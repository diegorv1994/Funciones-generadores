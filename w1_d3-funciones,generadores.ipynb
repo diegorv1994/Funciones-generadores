{
 "cells": [
  {
   "cell_type": "code",
   "execution_count": 1,
   "metadata": {},
   "outputs": [],
   "source": [
    "# funciones\n",
    "# https://docs.python.org/3/library/functions.html\n",
    "# https://nbviewer.jupyter.org/"
   ]
  },
  {
   "cell_type": "code",
   "execution_count": 2,
   "metadata": {},
   "outputs": [
    {
     "name": "stdout",
     "output_type": "stream",
     "text": [
      "<class 'function'>\n"
     ]
    }
   ],
   "source": [
    "def suma(a,b,c):\n",
    "    return a+b+c\n",
    "\n",
    "print (type(suma))"
   ]
  },
  {
   "cell_type": "code",
   "execution_count": 3,
   "metadata": {},
   "outputs": [
    {
     "data": {
      "text/plain": [
       "9"
      ]
     },
     "execution_count": 3,
     "metadata": {},
     "output_type": "execute_result"
    }
   ],
   "source": [
    "suma(2,3,4)"
   ]
  },
  {
   "cell_type": "code",
   "execution_count": 4,
   "metadata": {},
   "outputs": [
    {
     "name": "stdout",
     "output_type": "stream",
     "text": [
      "<class 'int'>\n"
     ]
    },
    {
     "data": {
      "text/plain": [
       "21"
      ]
     },
     "execution_count": 4,
     "metadata": {},
     "output_type": "execute_result"
    }
   ],
   "source": [
    "a=suma(2,3,4)\n",
    "print (type(a))\n",
    "suma(a,a,3)"
   ]
  },
  {
   "cell_type": "code",
   "execution_count": 5,
   "metadata": {},
   "outputs": [
    {
     "name": "stdout",
     "output_type": "stream",
     "text": [
      "5\n"
     ]
    },
    {
     "ename": "TypeError",
     "evalue": "suma() missing 1 required positional argument: 'c'",
     "output_type": "error",
     "traceback": [
      "\u001b[0;31m---------------------------------------------------------------------------\u001b[0m",
      "\u001b[0;31mTypeError\u001b[0m                                 Traceback (most recent call last)",
      "\u001b[0;32m<ipython-input-5-35442e1205c2>\u001b[0m in \u001b[0;36m<module>\u001b[0;34m\u001b[0m\n\u001b[1;32m      3\u001b[0m \u001b[0;34m\u001b[0m\u001b[0m\n\u001b[1;32m      4\u001b[0m \u001b[0mprint\u001b[0m \u001b[0;34m(\u001b[0m\u001b[0msuma2\u001b[0m\u001b[0;34m(\u001b[0m\u001b[0;36m2\u001b[0m\u001b[0;34m,\u001b[0m\u001b[0;36m2\u001b[0m\u001b[0;34m)\u001b[0m\u001b[0;34m)\u001b[0m\u001b[0;34m\u001b[0m\u001b[0;34m\u001b[0m\u001b[0m\n\u001b[0;32m----> 5\u001b[0;31m \u001b[0mprint\u001b[0m \u001b[0;34m(\u001b[0m\u001b[0msuma\u001b[0m\u001b[0;34m(\u001b[0m\u001b[0;36m2\u001b[0m\u001b[0;34m,\u001b[0m\u001b[0;36m2\u001b[0m\u001b[0;34m)\u001b[0m\u001b[0;34m)\u001b[0m\u001b[0;34m\u001b[0m\u001b[0;34m\u001b[0m\u001b[0m\n\u001b[0m",
      "\u001b[0;31mTypeError\u001b[0m: suma() missing 1 required positional argument: 'c'"
     ]
    }
   ],
   "source": [
    "def suma2(a,b,c=1):\n",
    "    return a+b+c\n",
    "\n",
    "print (suma2(2,2))\n",
    "print (suma(2,2))"
   ]
  },
  {
   "cell_type": "code",
   "execution_count": 6,
   "metadata": {},
   "outputs": [
    {
     "data": {
      "text/plain": [
       "9"
      ]
     },
     "execution_count": 6,
     "metadata": {},
     "output_type": "execute_result"
    }
   ],
   "source": [
    "suma2(2,2,5)"
   ]
  },
  {
   "cell_type": "code",
   "execution_count": 7,
   "metadata": {},
   "outputs": [
    {
     "data": {
      "text/plain": [
       "16"
      ]
     },
     "execution_count": 7,
     "metadata": {},
     "output_type": "execute_result"
    }
   ],
   "source": [
    "suma2(suma(2,1,4), suma2(2,2), 4)"
   ]
  },
  {
   "cell_type": "code",
   "execution_count": 8,
   "metadata": {},
   "outputs": [
    {
     "name": "stdout",
     "output_type": "stream",
     "text": [
      "Hello Jose colega!\n",
      "Hola Juan colega!\n",
      "Hola Juan \n",
      "Hello Ana colega!\n"
     ]
    }
   ],
   "source": [
    "# sin return\n",
    "\n",
    "def saluda(nombre, lang='es', colega=True):\n",
    "    s=''\n",
    "    \n",
    "    if colega: \n",
    "        s='colega!'\n",
    "    \n",
    "    if lang=='es':\n",
    "        print ('Hola {} {}'.format(nombre, s))\n",
    "        # print (f'Hola {nombre} {s}')\n",
    "    else:\n",
    "        print ('Hello {} {}'.format(nombre, s))\n",
    "\n",
    "        \n",
    "saluda('Jose', 'en')\n",
    "saluda('Juan')\n",
    "saluda('Juan', colega=False)\n",
    "        \n",
    "saluda(*['Ana', 'fr'])"
   ]
  },
  {
   "cell_type": "code",
   "execution_count": 9,
   "metadata": {},
   "outputs": [
    {
     "name": "stdout",
     "output_type": "stream",
     "text": [
      "Hola ['Ana', 'fr'] colega!\n",
      "Hello Ana colega!\n",
      "Hello A colega!\n"
     ]
    },
    {
     "ename": "TypeError",
     "evalue": "saluda() takes from 1 to 3 positional arguments but 4 were given",
     "output_type": "error",
     "traceback": [
      "\u001b[0;31m---------------------------------------------------------------------------\u001b[0m",
      "\u001b[0;31mTypeError\u001b[0m                                 Traceback (most recent call last)",
      "\u001b[0;32m<ipython-input-9-01e878483a97>\u001b[0m in \u001b[0;36m<module>\u001b[0;34m\u001b[0m\n\u001b[1;32m      2\u001b[0m \u001b[0msaluda\u001b[0m\u001b[0;34m(\u001b[0m\u001b[0;34m'Ana'\u001b[0m\u001b[0;34m,\u001b[0m \u001b[0;34m'fr'\u001b[0m\u001b[0;34m)\u001b[0m\u001b[0;34m\u001b[0m\u001b[0;34m\u001b[0m\u001b[0m\n\u001b[1;32m      3\u001b[0m \u001b[0msaluda\u001b[0m\u001b[0;34m(\u001b[0m\u001b[0;34m*\u001b[0m\u001b[0;34m'Ana'\u001b[0m\u001b[0;34m)\u001b[0m\u001b[0;34m\u001b[0m\u001b[0;34m\u001b[0m\u001b[0m\n\u001b[0;32m----> 4\u001b[0;31m \u001b[0msaluda\u001b[0m\u001b[0;34m(\u001b[0m\u001b[0;34m*\u001b[0m\u001b[0;34m'Ana'\u001b[0m\u001b[0;34m,\u001b[0m \u001b[0;34m'fr'\u001b[0m\u001b[0;34m)\u001b[0m\u001b[0;34m\u001b[0m\u001b[0;34m\u001b[0m\u001b[0m\n\u001b[0m",
      "\u001b[0;31mTypeError\u001b[0m: saluda() takes from 1 to 3 positional arguments but 4 were given"
     ]
    }
   ],
   "source": [
    "saluda(['Ana', 'fr'])       \n",
    "saluda('Ana', 'fr')\n",
    "saluda(*'Ana')\n",
    "saluda(*'Ana', 'fr')"
   ]
  },
  {
   "cell_type": "code",
   "execution_count": 10,
   "metadata": {},
   "outputs": [],
   "source": [
    "def suma3(a,b,c):\n",
    "    print ('a={}'.format(a))\n",
    "    print ('b={}'.format(b))\n",
    "    print ('c={}'.format(c))"
   ]
  },
  {
   "cell_type": "code",
   "execution_count": 11,
   "metadata": {},
   "outputs": [
    {
     "name": "stdout",
     "output_type": "stream",
     "text": [
      "a=9\n",
      "b=2\n",
      "c=4\n"
     ]
    }
   ],
   "source": [
    "suma3(c=4, a=9, b=2)"
   ]
  },
  {
   "cell_type": "code",
   "execution_count": 12,
   "metadata": {},
   "outputs": [
    {
     "name": "stdout",
     "output_type": "stream",
     "text": [
      "a=4\n",
      "b=9\n",
      "c=2\n"
     ]
    }
   ],
   "source": [
    "suma3(4, 9, 2)"
   ]
  },
  {
   "cell_type": "code",
   "execution_count": 13,
   "metadata": {},
   "outputs": [
    {
     "name": "stdout",
     "output_type": "stream",
     "text": [
      "Help on function suma3 in module __main__:\n",
      "\n",
      "suma3(a, b, c)\n",
      "\n"
     ]
    }
   ],
   "source": [
    "help(suma3)"
   ]
  },
  {
   "cell_type": "code",
   "execution_count": 14,
   "metadata": {},
   "outputs": [],
   "source": [
    "# sin return\n",
    "\n",
    "def saluda2(nombre, lang='es', colega=True):\n",
    "    s=''\n",
    "    \n",
    "    if colega: \n",
    "        s='colega!'\n",
    "        return 'si'\n",
    "    if lang=='es':\n",
    "        print ('Hola {} {}'.format(nombre, s))\n",
    "        # print (f'Hola {nombre} {s}')\n",
    "    else:\n",
    "        print ('Hello {} {}'.format(nombre, s))\n",
    "    \n",
    "    return ''"
   ]
  },
  {
   "cell_type": "code",
   "execution_count": 15,
   "metadata": {},
   "outputs": [
    {
     "name": "stdout",
     "output_type": "stream",
     "text": [
      "Hola Pepe colega!\n",
      "None\n"
     ]
    }
   ],
   "source": [
    "print (saluda('Pepe'))"
   ]
  },
  {
   "cell_type": "code",
   "execution_count": 16,
   "metadata": {},
   "outputs": [],
   "source": [
    "# *args al reves\n",
    "\n",
    "def saludo_multiple(*lst, lang='en'):\n",
    "    for e in lst:\n",
    "        saluda(e, lang)"
   ]
  },
  {
   "cell_type": "code",
   "execution_count": 20,
   "metadata": {},
   "outputs": [
    {
     "name": "stdout",
     "output_type": "stream",
     "text": [
      "Hola Juan colega!\n",
      "Hola Maria colega!\n",
      "Hola Pepe colega!\n"
     ]
    }
   ],
   "source": [
    "saludo_multiple('Juan', 'Maria', 'Pepe', lang='es')"
   ]
  },
  {
   "cell_type": "code",
   "execution_count": 21,
   "metadata": {},
   "outputs": [],
   "source": [
    "def hola():\n",
    "    pass\n",
    "hola()"
   ]
  },
  {
   "cell_type": "code",
   "execution_count": 29,
   "metadata": {},
   "outputs": [],
   "source": [
    "def resta(a,b):\n",
    "    def multi(c,d):\n",
    "        return c*d\n",
    "    return multi(a,b)-a"
   ]
  },
  {
   "cell_type": "code",
   "execution_count": 30,
   "metadata": {},
   "outputs": [
    {
     "data": {
      "text/plain": [
       "20"
      ]
     },
     "execution_count": 30,
     "metadata": {},
     "output_type": "execute_result"
    }
   ],
   "source": [
    "resta(5,5)"
   ]
  },
  {
   "cell_type": "code",
   "execution_count": 24,
   "metadata": {},
   "outputs": [
    {
     "ename": "NameError",
     "evalue": "name 'multi' is not defined",
     "output_type": "error",
     "traceback": [
      "\u001b[0;31m---------------------------------------------------------------------------\u001b[0m",
      "\u001b[0;31mNameError\u001b[0m                                 Traceback (most recent call last)",
      "\u001b[0;32m<ipython-input-24-cc92a531b30b>\u001b[0m in \u001b[0;36m<module>\u001b[0;34m\u001b[0m\n\u001b[0;32m----> 1\u001b[0;31m \u001b[0mmulti\u001b[0m\u001b[0;34m(\u001b[0m\u001b[0;36m5\u001b[0m\u001b[0;34m,\u001b[0m\u001b[0;36m5\u001b[0m\u001b[0;34m)\u001b[0m\u001b[0;34m\u001b[0m\u001b[0;34m\u001b[0m\u001b[0m\n\u001b[0m",
      "\u001b[0;31mNameError\u001b[0m: name 'multi' is not defined"
     ]
    }
   ],
   "source": [
    "multi(5,5)"
   ]
  },
  {
   "cell_type": "code",
   "execution_count": 33,
   "metadata": {},
   "outputs": [],
   "source": [
    "w=10 # global\n",
    "\n",
    "def resta(a,b):\n",
    "    def multi(c,d): # c,d local\n",
    "        return c*w\n",
    "    return multi(a,b)-a+w"
   ]
  },
  {
   "cell_type": "code",
   "execution_count": 35,
   "metadata": {},
   "outputs": [],
   "source": [
    "q=resta(5,5)"
   ]
  },
  {
   "cell_type": "code",
   "execution_count": 36,
   "metadata": {},
   "outputs": [
    {
     "data": {
      "text/plain": [
       "505"
      ]
     },
     "execution_count": 36,
     "metadata": {},
     "output_type": "execute_result"
    }
   ],
   "source": [
    "resta(q,w)"
   ]
  },
  {
   "cell_type": "code",
   "execution_count": 39,
   "metadata": {},
   "outputs": [
    {
     "name": "stdout",
     "output_type": "stream",
     "text": [
      "(1, 2, 3)\n"
     ]
    },
    {
     "data": {
      "text/plain": [
       "6"
      ]
     },
     "execution_count": 39,
     "metadata": {},
     "output_type": "execute_result"
    }
   ],
   "source": [
    "def suma4(*lst):\n",
    "    print (lst)\n",
    "    return sum(lst)\n",
    "\n",
    "a=[1,2,3]\n",
    "suma4(*a)"
   ]
  },
  {
   "cell_type": "code",
   "execution_count": 40,
   "metadata": {},
   "outputs": [],
   "source": [
    "def saludo_multiple(*lst, lang='es', vacaciones=True): # (*args, **kwargs)\n",
    "    print (lst)\n",
    "    print (lang)\n",
    "    print (vacaciones)\n",
    "    \n",
    "    if vacaciones:\n",
    "        print ('⚽️')\n",
    "    \n",
    "    for e in lst:\n",
    "        saluda(e, lang)"
   ]
  },
  {
   "cell_type": "code",
   "execution_count": 41,
   "metadata": {},
   "outputs": [],
   "source": [
    "config={\n",
    "    'lang':'en',\n",
    "    'vacaciones':False\n",
    "}"
   ]
  },
  {
   "cell_type": "code",
   "execution_count": 42,
   "metadata": {},
   "outputs": [
    {
     "name": "stdout",
     "output_type": "stream",
     "text": [
      "('Juan', 'Maria', 'Ana')\n",
      "en\n",
      "False\n",
      "Hello Juan colega!\n",
      "Hello Maria colega!\n",
      "Hello Ana colega!\n"
     ]
    }
   ],
   "source": [
    "saludo_multiple('Juan', 'Maria', 'Ana', **config)"
   ]
  },
  {
   "cell_type": "code",
   "execution_count": 52,
   "metadata": {},
   "outputs": [],
   "source": [
    "def suma6(w,b,c,d='Pepe'):\n",
    "    print (d)\n",
    "    return w+b+c"
   ]
  },
  {
   "cell_type": "code",
   "execution_count": 66,
   "metadata": {},
   "outputs": [],
   "source": [
    "v={\n",
    "    'c':1,\n",
    "    'b':5,\n",
    "    'w': 4,\n",
    "    'd': 'hoy'\n",
    "}"
   ]
  },
  {
   "cell_type": "code",
   "execution_count": 67,
   "metadata": {},
   "outputs": [
    {
     "name": "stdout",
     "output_type": "stream",
     "text": [
      "hoy\n"
     ]
    },
    {
     "data": {
      "text/plain": [
       "10"
      ]
     },
     "execution_count": 67,
     "metadata": {},
     "output_type": "execute_result"
    }
   ],
   "source": [
    "suma6(**v)  "
   ]
  },
  {
   "cell_type": "code",
   "execution_count": 68,
   "metadata": {},
   "outputs": [
    {
     "name": "stdout",
     "output_type": "stream",
     "text": [
      "hoy\n"
     ]
    },
    {
     "data": {
      "text/plain": [
       "15"
      ]
     },
     "execution_count": 68,
     "metadata": {},
     "output_type": "execute_result"
    }
   ],
   "source": [
    "suma6(c=1, b=5, w=9, d='hoy')"
   ]
  },
  {
   "cell_type": "code",
   "execution_count": 80,
   "metadata": {},
   "outputs": [],
   "source": [
    "def fn (*args, **kwargs):\n",
    "    print ('Args {}'.format(args))\n",
    "    print ('Kwargs {}'.format(kwargs))"
   ]
  },
  {
   "cell_type": "code",
   "execution_count": 81,
   "metadata": {},
   "outputs": [
    {
     "name": "stdout",
     "output_type": "stream",
     "text": [
      "Args ([1, 2, 3], 1, 2, 4, 5)\n",
      "Kwargs {'juan': 33, 'pepe': 90, 'hola': 'que tal', 'nombre': 'yo'}\n"
     ]
    }
   ],
   "source": [
    "a=[1,2,3]\n",
    "fn(a,1,2,4,5, juan=33, pepe=90, **{'hola':'que tal', 'nombre':'yo'})"
   ]
  },
  {
   "cell_type": "code",
   "execution_count": 83,
   "metadata": {},
   "outputs": [],
   "source": [
    "def fn2 (**kwargs):\n",
    "    print ('Kwargs {}'.format(kwargs))"
   ]
  },
  {
   "cell_type": "code",
   "execution_count": 84,
   "metadata": {},
   "outputs": [
    {
     "name": "stdout",
     "output_type": "stream",
     "text": [
      "Kwargs {'juan': 33, 'pepe': 90, 'hola': 'que tal', 'nombre': 'yo'}\n"
     ]
    }
   ],
   "source": [
    "fn2(juan=33, pepe=90, **{'hola':'que tal', 'nombre':'yo'})"
   ]
  },
  {
   "cell_type": "code",
   "execution_count": 98,
   "metadata": {},
   "outputs": [],
   "source": [
    "# callbacks\n",
    "\n",
    "def nombre_completo(m):\n",
    "    return '{} {}'.format(m['nombre'], m['apellidos'])"
   ]
  },
  {
   "cell_type": "code",
   "execution_count": 86,
   "metadata": {},
   "outputs": [],
   "source": [
    "def nombre(a):\n",
    "    return a['nombre']"
   ]
  },
  {
   "cell_type": "code",
   "execution_count": 95,
   "metadata": {},
   "outputs": [],
   "source": [
    "def saludo_cool(a):\n",
    "    return '😎 '+a['nombre']"
   ]
  },
  {
   "cell_type": "code",
   "execution_count": 96,
   "metadata": {},
   "outputs": [],
   "source": [
    "alumnos=[\n",
    "    {'nombre':'Pepe', 'apellidos':'Lopez Garcia'},\n",
    "    {'nombre':'Maria', 'apellidos':'Diaz Perez'},\n",
    "    {'nombre':'Juan', 'apellidos':'Garcia Alvarez'}\n",
    "]"
   ]
  },
  {
   "cell_type": "code",
   "execution_count": 97,
   "metadata": {},
   "outputs": [
    {
     "data": {
      "text/plain": [
       "'Pepe Lopez Garcia'"
      ]
     },
     "execution_count": 97,
     "metadata": {},
     "output_type": "execute_result"
    }
   ],
   "source": [
    "nombre_completo(alumnos[0])"
   ]
  },
  {
   "cell_type": "code",
   "execution_count": 100,
   "metadata": {},
   "outputs": [],
   "source": [
    "def saluda_alumnos(lst, fn):\n",
    "    for e in lst:\n",
    "        print ('Hola {}'.format(fn(e)))"
   ]
  },
  {
   "cell_type": "code",
   "execution_count": 101,
   "metadata": {},
   "outputs": [
    {
     "name": "stdout",
     "output_type": "stream",
     "text": [
      "Hola Pepe Lopez Garcia\n",
      "Hola Maria Diaz Perez\n",
      "Hola Juan Garcia Alvarez\n"
     ]
    }
   ],
   "source": [
    "saluda_alumnos(alumnos, nombre_completo)"
   ]
  },
  {
   "cell_type": "code",
   "execution_count": 102,
   "metadata": {},
   "outputs": [
    {
     "name": "stdout",
     "output_type": "stream",
     "text": [
      "Hola Pepe\n",
      "Hola Maria\n",
      "Hola Juan\n"
     ]
    }
   ],
   "source": [
    "saluda_alumnos(alumnos, nombre)"
   ]
  },
  {
   "cell_type": "code",
   "execution_count": 104,
   "metadata": {},
   "outputs": [
    {
     "name": "stdout",
     "output_type": "stream",
     "text": [
      "Hola 😎 Pepe\n",
      "Hola 😎 Maria\n",
      "Hola 😎 Juan\n"
     ]
    }
   ],
   "source": [
    "saluda_alumnos(alumnos, saludo_cool)"
   ]
  },
  {
   "cell_type": "code",
   "execution_count": 105,
   "metadata": {},
   "outputs": [],
   "source": [
    "# generadores\n",
    "\n",
    "def listin():\n",
    "    t=['1004', '5566', '3673643', '98375918', '98357291']\n",
    "    print ('Hola')\n",
    "    for e in t:\n",
    "        yield '+52 '+ e"
   ]
  },
  {
   "cell_type": "code",
   "execution_count": 107,
   "metadata": {},
   "outputs": [
    {
     "name": "stdout",
     "output_type": "stream",
     "text": [
      "<class 'generator'>\n"
     ]
    }
   ],
   "source": [
    "print (type(listin()))"
   ]
  },
  {
   "cell_type": "code",
   "execution_count": 108,
   "metadata": {},
   "outputs": [
    {
     "name": "stdout",
     "output_type": "stream",
     "text": [
      "Hola\n",
      "tlf +52 1004\n",
      "tlf +52 5566\n",
      "tlf +52 3673643\n",
      "tlf +52 98375918\n",
      "tlf +52 98357291\n"
     ]
    }
   ],
   "source": [
    "for e in listin():\n",
    "    print ('tlf '+ e)"
   ]
  },
  {
   "cell_type": "code",
   "execution_count": 126,
   "metadata": {},
   "outputs": [],
   "source": [
    "def ran(*args): # range(start, stop, step)\n",
    "    \n",
    "    if len(args)==1:\n",
    "        stop=args[0]\n",
    "        start=0\n",
    "        step=1\n",
    "    elif len(args)==2:\n",
    "        start=args[0]\n",
    "        stop=args[1]\n",
    "        step=1\n",
    "    else:\n",
    "        start=args[0]\n",
    "        stop=args[1]\n",
    "        step=args[2]\n",
    "        \n",
    "    \n",
    "    while start<stop:\n",
    "        yield start\n",
    "        start+=step\n",
    "    "
   ]
  },
  {
   "cell_type": "code",
   "execution_count": 127,
   "metadata": {},
   "outputs": [
    {
     "data": {
      "text/plain": [
       "[0, 1, 2, 3, 4, 5, 6, 7, 8, 9]"
      ]
     },
     "execution_count": 127,
     "metadata": {},
     "output_type": "execute_result"
    }
   ],
   "source": [
    "list(ran(10))"
   ]
  },
  {
   "cell_type": "code",
   "execution_count": 128,
   "metadata": {},
   "outputs": [
    {
     "data": {
      "text/plain": [
       "[1,\n",
       " 1.1,\n",
       " 1.2000000000000002,\n",
       " 1.3000000000000003,\n",
       " 1.4000000000000004,\n",
       " 1.5000000000000004,\n",
       " 1.6000000000000005,\n",
       " 1.7000000000000006,\n",
       " 1.8000000000000007,\n",
       " 1.9000000000000008,\n",
       " 2.000000000000001,\n",
       " 2.100000000000001,\n",
       " 2.200000000000001,\n",
       " 2.300000000000001,\n",
       " 2.4000000000000012,\n",
       " 2.5000000000000013,\n",
       " 2.6000000000000014,\n",
       " 2.7000000000000015,\n",
       " 2.8000000000000016,\n",
       " 2.9000000000000017,\n",
       " 3.0000000000000018,\n",
       " 3.100000000000002,\n",
       " 3.200000000000002,\n",
       " 3.300000000000002,\n",
       " 3.400000000000002,\n",
       " 3.500000000000002,\n",
       " 3.6000000000000023,\n",
       " 3.7000000000000024,\n",
       " 3.8000000000000025,\n",
       " 3.9000000000000026,\n",
       " 4.000000000000003,\n",
       " 4.100000000000002,\n",
       " 4.200000000000002,\n",
       " 4.300000000000002,\n",
       " 4.400000000000001,\n",
       " 4.500000000000001,\n",
       " 4.6000000000000005,\n",
       " 4.7,\n",
       " 4.8,\n",
       " 4.8999999999999995,\n",
       " 4.999999999999999]"
      ]
     },
     "execution_count": 128,
     "metadata": {},
     "output_type": "execute_result"
    }
   ],
   "source": [
    "list(ran(1, 5, 0.1))"
   ]
  },
  {
   "cell_type": "code",
   "execution_count": 129,
   "metadata": {},
   "outputs": [
    {
     "data": {
      "text/plain": [
       "'Hola🐙me🐙llamo🐙Pepe'"
      ]
     },
     "execution_count": 129,
     "metadata": {},
     "output_type": "execute_result"
    }
   ],
   "source": [
    "# Strings\n",
    "\n",
    "lst=['Hola', 'me', 'llamo', 'Pepe']\n",
    "\n",
    "'🐙'.join(lst)"
   ]
  },
  {
   "cell_type": "code",
   "execution_count": 130,
   "metadata": {},
   "outputs": [
    {
     "data": {
      "text/plain": [
       "'Hola me llamo Pepe'"
      ]
     },
     "execution_count": 130,
     "metadata": {},
     "output_type": "execute_result"
    }
   ],
   "source": [
    "' '.join(lst)"
   ]
  },
  {
   "cell_type": "code",
   "execution_count": 139,
   "metadata": {},
   "outputs": [
    {
     "data": {
      "text/plain": [
       "'HolamellamoPepe'"
      ]
     },
     "execution_count": 139,
     "metadata": {},
     "output_type": "execute_result"
    }
   ],
   "source": [
    "''.join(lst)"
   ]
  },
  {
   "cell_type": "code",
   "execution_count": 131,
   "metadata": {},
   "outputs": [],
   "source": [
    "texto='🐙'.join(lst)"
   ]
  },
  {
   "cell_type": "code",
   "execution_count": 132,
   "metadata": {},
   "outputs": [
    {
     "data": {
      "text/plain": [
       "['Hola', 'me', 'llamo', 'Pepe']"
      ]
     },
     "execution_count": 132,
     "metadata": {},
     "output_type": "execute_result"
    }
   ],
   "source": [
    "texto.split('🐙')"
   ]
  },
  {
   "cell_type": "code",
   "execution_count": 133,
   "metadata": {},
   "outputs": [
    {
     "data": {
      "text/plain": [
       "['H',\n",
       " 'o',\n",
       " 'l',\n",
       " 'a',\n",
       " '🐙',\n",
       " 'm',\n",
       " 'e',\n",
       " '🐙',\n",
       " 'l',\n",
       " 'l',\n",
       " 'a',\n",
       " 'm',\n",
       " 'o',\n",
       " '🐙',\n",
       " 'P',\n",
       " 'e',\n",
       " 'p',\n",
       " 'e']"
      ]
     },
     "execution_count": 133,
     "metadata": {},
     "output_type": "execute_result"
    }
   ],
   "source": [
    "list(texto)"
   ]
  },
  {
   "cell_type": "code",
   "execution_count": 138,
   "metadata": {},
   "outputs": [
    {
     "name": "stdout",
     "output_type": "stream",
     "text": [
      "Hola🐙me🐙llamo🐙Pepe\n",
      "empieza bien\n"
     ]
    }
   ],
   "source": [
    "print (texto)\n",
    "\n",
    "if texto.startswith('Ho'):\n",
    "    print ('empieza bien')\n",
    "else:\n",
    "    print ('Mal')"
   ]
  },
  {
   "cell_type": "code",
   "execution_count": 140,
   "metadata": {},
   "outputs": [
    {
     "data": {
      "text/plain": [
       "'Hola🐙me🐙llamo🐙pepe'"
      ]
     },
     "execution_count": 140,
     "metadata": {},
     "output_type": "execute_result"
    }
   ],
   "source": [
    "texto.capitalize()"
   ]
  },
  {
   "cell_type": "code",
   "execution_count": 143,
   "metadata": {},
   "outputs": [
    {
     "data": {
      "text/plain": [
       "'HOLA🐙ME🐙LLAMO🐙PEPE'"
      ]
     },
     "execution_count": 143,
     "metadata": {},
     "output_type": "execute_result"
    }
   ],
   "source": [
    "texto.upper()"
   ]
  },
  {
   "cell_type": "code",
   "execution_count": 144,
   "metadata": {},
   "outputs": [
    {
     "data": {
      "text/plain": [
       "'hola🐙me🐙llamo🐙pepe'"
      ]
     },
     "execution_count": 144,
     "metadata": {},
     "output_type": "execute_result"
    }
   ],
   "source": [
    "texto.lower()"
   ]
  },
  {
   "cell_type": "code",
   "execution_count": 150,
   "metadata": {},
   "outputs": [
    {
     "name": "stdout",
     "output_type": "stream",
     "text": [
      "HOla🐙me🐙llamO🐙Pepe\n"
     ]
    }
   ],
   "source": [
    "st=''\n",
    "for e in texto:\n",
    "    if e=='o':\n",
    "        st+=e.upper()\n",
    "    else:\n",
    "        st+=e\n",
    "print (st)"
   ]
  },
  {
   "cell_type": "code",
   "execution_count": 151,
   "metadata": {},
   "outputs": [
    {
     "name": "stdout",
     "output_type": "stream",
     "text": [
      "['Hola', 'Me', 'Llamo', 'Pepe']\n"
     ]
    }
   ],
   "source": [
    "lst=[]\n",
    "for e in texto.split('🐙'):\n",
    "    lst.append(e.capitalize())\n",
    "print(lst)"
   ]
  },
  {
   "cell_type": "code",
   "execution_count": 152,
   "metadata": {},
   "outputs": [
    {
     "data": {
      "text/plain": [
       "'Hola🐙Me🐙Llamo🐙Pepe'"
      ]
     },
     "execution_count": 152,
     "metadata": {},
     "output_type": "execute_result"
    }
   ],
   "source": [
    "'🐙'.join(lst)"
   ]
  },
  {
   "cell_type": "code",
   "execution_count": 154,
   "metadata": {},
   "outputs": [
    {
     "data": {
      "text/plain": [
       "'Hola🐙Me🐙Llamo🐙Pepe'"
      ]
     },
     "execution_count": 154,
     "metadata": {},
     "output_type": "execute_result"
    }
   ],
   "source": [
    "'🐙'.join([e.capitalize() for e in texto.split('🐙')])"
   ]
  },
  {
   "cell_type": "code",
   "execution_count": 155,
   "metadata": {},
   "outputs": [
    {
     "name": "stdout",
     "output_type": "stream",
     "text": [
      "q\n",
      "k\n",
      "b\n",
      "q\n",
      "e\n",
      "p\n",
      "ñ\n",
      "i\n",
      "h\n",
      "a\n",
      "e\n",
      "p\n",
      "i\n",
      "o\n",
      "g\n",
      "h\n",
      "e\n",
      "a\n",
      "s\n",
      "ò\n",
      "i\n",
      "g\n",
      "u\n",
      "h\n",
      "w\n"
     ]
    }
   ],
   "source": [
    "for e in 'qkbqepñihaepiogheasòiguhw':\n",
    "    print (e)"
   ]
  },
  {
   "cell_type": "code",
   "execution_count": 156,
   "metadata": {},
   "outputs": [
    {
     "name": "stdout",
     "output_type": "stream",
     "text": [
      "True\n"
     ]
    }
   ],
   "source": [
    "print ('a' in texto)"
   ]
  },
  {
   "cell_type": "code",
   "execution_count": 157,
   "metadata": {},
   "outputs": [
    {
     "data": {
      "text/plain": [
       "'Hola🐙Me🐙Llamo🐙Pepe'"
      ]
     },
     "execution_count": 157,
     "metadata": {},
     "output_type": "execute_result"
    }
   ],
   "source": [
    "texto.title()"
   ]
  },
  {
   "cell_type": "code",
   "execution_count": 166,
   "metadata": {},
   "outputs": [],
   "source": [
    "d='''     I have have\n",
    "\n",
    "a car\n",
    "\n",
    "\n",
    "\n",
    "'''"
   ]
  },
  {
   "cell_type": "code",
   "execution_count": 159,
   "metadata": {},
   "outputs": [
    {
     "data": {
      "text/plain": [
       "'     I have\\n\\na car'"
      ]
     },
     "execution_count": 159,
     "metadata": {},
     "output_type": "execute_result"
    }
   ],
   "source": [
    "d.rstrip()"
   ]
  },
  {
   "cell_type": "code",
   "execution_count": 160,
   "metadata": {},
   "outputs": [
    {
     "data": {
      "text/plain": [
       "'I have\\n\\na car\\n\\n\\n\\n'"
      ]
     },
     "execution_count": 160,
     "metadata": {},
     "output_type": "execute_result"
    }
   ],
   "source": [
    "d.lstrip()"
   ]
  },
  {
   "cell_type": "code",
   "execution_count": 161,
   "metadata": {},
   "outputs": [
    {
     "data": {
      "text/plain": [
       "'I have\\n\\na car'"
      ]
     },
     "execution_count": 161,
     "metadata": {},
     "output_type": "execute_result"
    }
   ],
   "source": [
    "d.strip()"
   ]
  },
  {
   "cell_type": "code",
   "execution_count": 169,
   "metadata": {},
   "outputs": [
    {
     "data": {
      "text/plain": [
       "'     I tengo tengo\\n\\na car\\n\\n\\n\\n'"
      ]
     },
     "execution_count": 169,
     "metadata": {},
     "output_type": "execute_result"
    }
   ],
   "source": [
    "d.replace('have', 'tengo')"
   ]
  },
  {
   "cell_type": "code",
   "execution_count": 163,
   "metadata": {},
   "outputs": [
    {
     "data": {
      "text/plain": [
       "'     I havea car'"
      ]
     },
     "execution_count": 163,
     "metadata": {},
     "output_type": "execute_result"
    }
   ],
   "source": [
    "d.replace('\\n', '')"
   ]
  },
  {
   "cell_type": "code",
   "execution_count": 165,
   "metadata": {},
   "outputs": [
    {
     "data": {
      "text/plain": [
       "'I havea car'"
      ]
     },
     "execution_count": 165,
     "metadata": {},
     "output_type": "execute_result"
    }
   ],
   "source": [
    "d.replace('\\n', '').lstrip()"
   ]
  },
  {
   "cell_type": "code",
   "execution_count": 170,
   "metadata": {},
   "outputs": [],
   "source": [
    "# RegEX\n",
    "\n",
    "import re"
   ]
  },
  {
   "cell_type": "code",
   "execution_count": 171,
   "metadata": {},
   "outputs": [],
   "source": [
    "texto='My neighbor, Mr. @ Rogeneighrs, has 4 44 dogs'"
   ]
  },
  {
   "cell_type": "code",
   "execution_count": 172,
   "metadata": {},
   "outputs": [
    {
     "data": {
      "text/plain": [
       "['neigh', 'neigh']"
      ]
     },
     "execution_count": 172,
     "metadata": {},
     "output_type": "execute_result"
    }
   ],
   "source": [
    "re.findall('neigh', texto)"
   ]
  },
  {
   "cell_type": "code",
   "execution_count": 173,
   "metadata": {},
   "outputs": [
    {
     "data": {
      "text/plain": [
       "['4', '4', '4']"
      ]
     },
     "execution_count": 173,
     "metadata": {},
     "output_type": "execute_result"
    }
   ],
   "source": [
    "re.findall('\\d', texto)"
   ]
  },
  {
   "cell_type": "code",
   "execution_count": 174,
   "metadata": {},
   "outputs": [
    {
     "data": {
      "text/plain": [
       "['4', '44']"
      ]
     },
     "execution_count": 174,
     "metadata": {},
     "output_type": "execute_result"
    }
   ],
   "source": [
    "re.findall('\\d+', texto)"
   ]
  },
  {
   "cell_type": "code",
   "execution_count": 180,
   "metadata": {},
   "outputs": [
    {
     "data": {
      "text/plain": [
       "'My neighbor Mr  Rogeneighrs has   dogs'"
      ]
     },
     "execution_count": 180,
     "metadata": {},
     "output_type": "execute_result"
    }
   ],
   "source": [
    "''.join(re.findall('[a-zA-Z ]', texto))"
   ]
  },
  {
   "cell_type": "code",
   "execution_count": 182,
   "metadata": {},
   "outputs": [
    {
     "data": {
      "text/plain": [
       "41"
      ]
     },
     "execution_count": 182,
     "metadata": {},
     "output_type": "execute_result"
    }
   ],
   "source": [
    "len(''.join(re.findall('[a-zA-Z 0-9]', texto)))"
   ]
  },
  {
   "cell_type": "code",
   "execution_count": 187,
   "metadata": {},
   "outputs": [
    {
     "data": {
      "text/plain": [
       "[' ', ', ', '. @ ', ', ', ' ', ' ', ' ']"
      ]
     },
     "execution_count": 187,
     "metadata": {},
     "output_type": "execute_result"
    }
   ],
   "source": [
    "re.findall('\\W+', texto)"
   ]
  },
  {
   "cell_type": "code",
   "execution_count": 190,
   "metadata": {},
   "outputs": [
    {
     "data": {
      "text/plain": [
       "['My ',\n",
       " 'nei',\n",
       " 'ghb',\n",
       " 'or,',\n",
       " ' Mr',\n",
       " '. @',\n",
       " ' Ro',\n",
       " 'gen',\n",
       " 'eig',\n",
       " 'hrs',\n",
       " ', h',\n",
       " 'as ',\n",
       " '4 4',\n",
       " '4 d',\n",
       " 'ogs']"
      ]
     },
     "execution_count": 190,
     "metadata": {},
     "output_type": "execute_result"
    }
   ],
   "source": [
    "re.findall('(...)', texto)"
   ]
  },
  {
   "cell_type": "code",
   "execution_count": 191,
   "metadata": {},
   "outputs": [
    {
     "data": {
      "text/plain": [
       "'Myneighbor,Mr.@Rogeneighrs,has444dogs'"
      ]
     },
     "execution_count": 191,
     "metadata": {},
     "output_type": "execute_result"
    }
   ],
   "source": [
    "re.sub(' +', '', texto)"
   ]
  },
  {
   "cell_type": "code",
   "execution_count": 192,
   "metadata": {},
   "outputs": [
    {
     "data": {
      "text/plain": [
       "'My neighbor, Mr. @ Rogeneighrs, has A AA dogs'"
      ]
     },
     "execution_count": 192,
     "metadata": {},
     "output_type": "execute_result"
    }
   ],
   "source": [
    "re.sub('\\d', 'A', texto)"
   ]
  },
  {
   "cell_type": "code",
   "execution_count": 196,
   "metadata": {},
   "outputs": [
    {
     "data": {
      "text/plain": [
       "re.compile(r'\\b \\b', re.UNICODE)"
      ]
     },
     "execution_count": 196,
     "metadata": {},
     "output_type": "execute_result"
    }
   ],
   "source": [
    "re.compile(r'\\b \\b')"
   ]
  },
  {
   "cell_type": "code",
   "execution_count": null,
   "metadata": {},
   "outputs": [],
   "source": []
  }
 ],
 "metadata": {
  "kernelspec": {
   "display_name": "Python 3",
   "language": "python",
   "name": "python3"
  },
  "language_info": {
   "codemirror_mode": {
    "name": "ipython",
    "version": 3
   },
   "file_extension": ".py",
   "mimetype": "text/x-python",
   "name": "python",
   "nbconvert_exporter": "python",
   "pygments_lexer": "ipython3",
   "version": "3.7.3"
  }
 },
 "nbformat": 4,
 "nbformat_minor": 2
}
